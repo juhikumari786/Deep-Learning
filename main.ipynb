{
 "cells": [
  {
   "cell_type": "code",
   "execution_count": null,
   "metadata": {},
   "outputs": [],
   "source": [
    "# Part 1 - Data Preprocessing"
   ]
  },
  {
   "cell_type": "code",
   "execution_count": 1,
   "metadata": {},
   "outputs": [],
   "source": [
    "\n",
    "\n",
    "# Importing the libraries\n",
    "import numpy as np\n",
    "import matplotlib.pyplot as plt\n",
    "import pandas as pd\n"
   ]
  },
  {
   "cell_type": "code",
   "execution_count": 2,
   "metadata": {},
   "outputs": [],
   "source": [
    "# Importing the dataset\n",
    "dataset = pd.read_csv('Churn-Modelling.csv')\n",
    "X = dataset.iloc[:, 3:13]\n",
    "y = dataset.iloc[:, 13]\n"
   ]
  },
  {
   "cell_type": "code",
   "execution_count": 3,
   "metadata": {},
   "outputs": [],
   "source": [
    "#Create dummy variables\n",
    "geography=pd.get_dummies(X[\"Geography\"],drop_first=True)\n",
    "gender=pd.get_dummies(X['Gender'],drop_first=True)"
   ]
  },
  {
   "cell_type": "code",
   "execution_count": 4,
   "metadata": {},
   "outputs": [],
   "source": [
    "## Concatenate the Data Frames\n",
    "\n",
    "X=pd.concat([X,geography,gender],axis=1)"
   ]
  },
  {
   "cell_type": "code",
   "execution_count": 5,
   "metadata": {},
   "outputs": [],
   "source": [
    "## Drop Unnecessary columns\n",
    "X=X.drop(['Geography','Gender'],axis=1)"
   ]
  },
  {
   "cell_type": "code",
   "execution_count": 6,
   "metadata": {},
   "outputs": [],
   "source": [
    "# Splitting the dataset into the Training set and Test set\n",
    "from sklearn.model_selection import train_test_split\n",
    "X_train, X_test, y_train, y_test = train_test_split(X, y, test_size = 0.2, random_state = 0)\n"
   ]
  },
  {
   "cell_type": "code",
   "execution_count": 7,
   "metadata": {},
   "outputs": [],
   "source": [
    "# Feature Scaling\n",
    "from sklearn.preprocessing import StandardScaler\n",
    "sc = StandardScaler()\n",
    "X_train = sc.fit_transform(X_train)\n",
    "X_test = sc.transform(X_test)"
   ]
  },
  {
   "cell_type": "code",
   "execution_count": null,
   "metadata": {},
   "outputs": [],
   "source": [
    "# Part 2 - Now let's make the ANN!"
   ]
  },
  {
   "cell_type": "code",
   "execution_count": 10,
   "metadata": {},
   "outputs": [],
   "source": [
    "\n",
    "\n",
    "# Importing the Keras libraries and packages\n",
    "import keras\n",
    "from keras.models import Sequential\n",
    "from keras.layers import Dense\n",
    "from keras.layers import LeakyReLU,PReLU,ELU\n",
    "from keras.layers import Dropout\n"
   ]
  },
  {
   "cell_type": "code",
   "execution_count": 11,
   "metadata": {},
   "outputs": [],
   "source": [
    "# Initialising the ANN\n",
    "classifier = Sequential()"
   ]
  },
  {
   "cell_type": "code",
   "execution_count": 14,
   "metadata": {},
   "outputs": [],
   "source": [
    "# Adding the input layer and the first hidden layer\n",
    "classifier.add(Dense(6, kernel_initializer = 'he_uniform',activation='relu',input_dim = 11))\n"
   ]
  },
  {
   "cell_type": "code",
   "execution_count": 15,
   "metadata": {},
   "outputs": [],
   "source": [
    "# Adding the second hidden layer\n",
    "classifier.add(Dense(6, kernel_initializer = 'he_uniform',activation='relu'))\n",
    "# Adding the output layer\n",
    "classifier.add(Dense(1, kernel_initializer = 'glorot_uniform', activation = 'sigmoid'))"
   ]
  },
  {
   "cell_type": "code",
   "execution_count": 16,
   "metadata": {},
   "outputs": [],
   "source": [
    "# Compiling the ANN\n",
    "classifier.compile(optimizer = 'Adamax', loss = 'binary_crossentropy', metrics = ['accuracy'])\n"
   ]
  },
  {
   "cell_type": "code",
   "execution_count": 18,
   "metadata": {},
   "outputs": [
    {
     "name": "stdout",
     "output_type": "stream",
     "text": [
      "Epoch 1/100\n",
      "536/536 [==============================] - 13s 6ms/step - loss: 0.5517 - accuracy: 0.7666 - val_loss: 0.5149 - val_accuracy: 0.7925\n",
      "Epoch 2/100\n",
      "536/536 [==============================] - 2s 4ms/step - loss: 0.4920 - accuracy: 0.7957 - val_loss: 0.4812 - val_accuracy: 0.7970\n",
      "Epoch 3/100\n",
      "536/536 [==============================] - 2s 5ms/step - loss: 0.4649 - accuracy: 0.8005 - val_loss: 0.4621 - val_accuracy: 0.7993\n",
      "Epoch 4/100\n",
      "536/536 [==============================] - 2s 4ms/step - loss: 0.4479 - accuracy: 0.8046 - val_loss: 0.4502 - val_accuracy: 0.8023\n",
      "Epoch 5/100\n",
      "536/536 [==============================] - 2s 4ms/step - loss: 0.4365 - accuracy: 0.8091 - val_loss: 0.4419 - val_accuracy: 0.8042\n",
      "Epoch 6/100\n",
      "536/536 [==============================] - 3s 5ms/step - loss: 0.4278 - accuracy: 0.8145 - val_loss: 0.4354 - val_accuracy: 0.8084\n",
      "Epoch 7/100\n",
      "536/536 [==============================] - 2s 4ms/step - loss: 0.4207 - accuracy: 0.8197 - val_loss: 0.4304 - val_accuracy: 0.8126\n",
      "Epoch 8/100\n",
      "536/536 [==============================] - 2s 4ms/step - loss: 0.4147 - accuracy: 0.8261 - val_loss: 0.4258 - val_accuracy: 0.8160\n",
      "Epoch 9/100\n",
      "536/536 [==============================] - 2s 5ms/step - loss: 0.4093 - accuracy: 0.8289 - val_loss: 0.4215 - val_accuracy: 0.8183\n",
      "Epoch 10/100\n",
      "536/536 [==============================] - 3s 5ms/step - loss: 0.4040 - accuracy: 0.8326 - val_loss: 0.4172 - val_accuracy: 0.8224\n",
      "Epoch 11/100\n",
      "536/536 [==============================] - 3s 5ms/step - loss: 0.3990 - accuracy: 0.8367 - val_loss: 0.4132 - val_accuracy: 0.8220\n",
      "Epoch 12/100\n",
      "536/536 [==============================] - 3s 5ms/step - loss: 0.3943 - accuracy: 0.8377 - val_loss: 0.4093 - val_accuracy: 0.8232\n",
      "Epoch 13/100\n",
      "536/536 [==============================] - 3s 5ms/step - loss: 0.3898 - accuracy: 0.8414 - val_loss: 0.4049 - val_accuracy: 0.8262\n",
      "Epoch 14/100\n",
      "536/536 [==============================] - 3s 5ms/step - loss: 0.3851 - accuracy: 0.8444 - val_loss: 0.4012 - val_accuracy: 0.8273\n",
      "Epoch 15/100\n",
      "536/536 [==============================] - 3s 6ms/step - loss: 0.3808 - accuracy: 0.8461 - val_loss: 0.3974 - val_accuracy: 0.8285\n",
      "Epoch 16/100\n",
      "536/536 [==============================] - 3s 6ms/step - loss: 0.3767 - accuracy: 0.8502 - val_loss: 0.3938 - val_accuracy: 0.8296\n",
      "Epoch 17/100\n",
      "536/536 [==============================] - 3s 5ms/step - loss: 0.3726 - accuracy: 0.8522 - val_loss: 0.3905 - val_accuracy: 0.8326\n",
      "Epoch 18/100\n",
      "536/536 [==============================] - 3s 5ms/step - loss: 0.3689 - accuracy: 0.8535 - val_loss: 0.3870 - val_accuracy: 0.8357\n",
      "Epoch 19/100\n",
      "536/536 [==============================] - 3s 5ms/step - loss: 0.3653 - accuracy: 0.8565 - val_loss: 0.3838 - val_accuracy: 0.8368\n",
      "Epoch 20/100\n",
      "536/536 [==============================] - 2s 5ms/step - loss: 0.3619 - accuracy: 0.8582 - val_loss: 0.3808 - val_accuracy: 0.8387\n",
      "Epoch 21/100\n",
      "536/536 [==============================] - 2s 4ms/step - loss: 0.3589 - accuracy: 0.8597 - val_loss: 0.3784 - val_accuracy: 0.8417\n",
      "Epoch 22/100\n",
      "536/536 [==============================] - 3s 5ms/step - loss: 0.3565 - accuracy: 0.8587 - val_loss: 0.3764 - val_accuracy: 0.8417\n",
      "Epoch 23/100\n",
      "536/536 [==============================] - 3s 5ms/step - loss: 0.3545 - accuracy: 0.8606 - val_loss: 0.3742 - val_accuracy: 0.8432\n",
      "Epoch 24/100\n",
      "536/536 [==============================] - 3s 5ms/step - loss: 0.3525 - accuracy: 0.8602 - val_loss: 0.3727 - val_accuracy: 0.8448\n",
      "Epoch 25/100\n",
      "536/536 [==============================] - 3s 5ms/step - loss: 0.3508 - accuracy: 0.8608 - val_loss: 0.3704 - val_accuracy: 0.8485\n",
      "Epoch 26/100\n",
      "536/536 [==============================] - 3s 5ms/step - loss: 0.3494 - accuracy: 0.8614 - val_loss: 0.3688 - val_accuracy: 0.8489\n",
      "Epoch 27/100\n",
      "536/536 [==============================] - 3s 5ms/step - loss: 0.3479 - accuracy: 0.8625 - val_loss: 0.3678 - val_accuracy: 0.8489\n",
      "Epoch 28/100\n",
      "536/536 [==============================] - 3s 5ms/step - loss: 0.3464 - accuracy: 0.8615 - val_loss: 0.3670 - val_accuracy: 0.8482\n",
      "Epoch 29/100\n",
      "536/536 [==============================] - 3s 5ms/step - loss: 0.3455 - accuracy: 0.8623 - val_loss: 0.3666 - val_accuracy: 0.8474\n",
      "Epoch 30/100\n",
      "536/536 [==============================] - 3s 5ms/step - loss: 0.3445 - accuracy: 0.8632 - val_loss: 0.3651 - val_accuracy: 0.8493\n",
      "Epoch 31/100\n",
      "536/536 [==============================] - 2s 5ms/step - loss: 0.3436 - accuracy: 0.8625 - val_loss: 0.3645 - val_accuracy: 0.8493\n",
      "Epoch 32/100\n",
      "536/536 [==============================] - 3s 5ms/step - loss: 0.3430 - accuracy: 0.8608 - val_loss: 0.3638 - val_accuracy: 0.8497\n",
      "Epoch 33/100\n",
      "536/536 [==============================] - 3s 5ms/step - loss: 0.3423 - accuracy: 0.8619 - val_loss: 0.3634 - val_accuracy: 0.8504\n",
      "Epoch 34/100\n",
      "536/536 [==============================] - 3s 5ms/step - loss: 0.3417 - accuracy: 0.8615 - val_loss: 0.3629 - val_accuracy: 0.8516\n",
      "Epoch 35/100\n",
      "536/536 [==============================] - 3s 5ms/step - loss: 0.3412 - accuracy: 0.8621 - val_loss: 0.3621 - val_accuracy: 0.8523\n",
      "Epoch 36/100\n",
      "536/536 [==============================] - 3s 6ms/step - loss: 0.3405 - accuracy: 0.8614 - val_loss: 0.3621 - val_accuracy: 0.8527\n",
      "Epoch 37/100\n",
      "536/536 [==============================] - 3s 5ms/step - loss: 0.3402 - accuracy: 0.8623 - val_loss: 0.3619 - val_accuracy: 0.8523\n",
      "Epoch 38/100\n",
      "536/536 [==============================] - 3s 5ms/step - loss: 0.3397 - accuracy: 0.8608 - val_loss: 0.3612 - val_accuracy: 0.8516\n",
      "Epoch 39/100\n",
      "536/536 [==============================] - 3s 5ms/step - loss: 0.3394 - accuracy: 0.8619 - val_loss: 0.3610 - val_accuracy: 0.8519\n",
      "Epoch 40/100\n",
      "536/536 [==============================] - 3s 6ms/step - loss: 0.3390 - accuracy: 0.8614 - val_loss: 0.3609 - val_accuracy: 0.8519\n",
      "Epoch 41/100\n",
      "536/536 [==============================] - 3s 6ms/step - loss: 0.3386 - accuracy: 0.8627 - val_loss: 0.3606 - val_accuracy: 0.8535\n",
      "Epoch 42/100\n",
      "536/536 [==============================] - 3s 6ms/step - loss: 0.3383 - accuracy: 0.8632 - val_loss: 0.3601 - val_accuracy: 0.8531: 1s - loss: 0.3405 - accu\n",
      "Epoch 43/100\n",
      "536/536 [==============================] - 3s 6ms/step - loss: 0.3380 - accuracy: 0.8627 - val_loss: 0.3599 - val_accuracy: 0.8523\n",
      "Epoch 44/100\n",
      "536/536 [==============================] - 3s 6ms/step - loss: 0.3377 - accuracy: 0.8625 - val_loss: 0.3596 - val_accuracy: 0.8527\n",
      "Epoch 45/100\n",
      "536/536 [==============================] - 3s 6ms/step - loss: 0.3374 - accuracy: 0.8643 - val_loss: 0.3592 - val_accuracy: 0.8531\n",
      "Epoch 46/100\n",
      "536/536 [==============================] - 3s 5ms/step - loss: 0.3372 - accuracy: 0.8628 - val_loss: 0.3588 - val_accuracy: 0.8535\n",
      "Epoch 47/100\n",
      "536/536 [==============================] - 3s 5ms/step - loss: 0.3368 - accuracy: 0.8627 - val_loss: 0.3596 - val_accuracy: 0.8535\n",
      "Epoch 48/100\n",
      "536/536 [==============================] - 3s 5ms/step - loss: 0.3366 - accuracy: 0.8645 - val_loss: 0.3588 - val_accuracy: 0.8527\n",
      "Epoch 49/100\n",
      "536/536 [==============================] - 3s 5ms/step - loss: 0.3365 - accuracy: 0.8642 - val_loss: 0.3590 - val_accuracy: 0.8523\n",
      "Epoch 50/100\n",
      "536/536 [==============================] - 3s 5ms/step - loss: 0.3362 - accuracy: 0.8642 - val_loss: 0.3588 - val_accuracy: 0.8538\n",
      "Epoch 51/100\n",
      "536/536 [==============================] - 2s 4ms/step - loss: 0.3359 - accuracy: 0.8642 - val_loss: 0.3590 - val_accuracy: 0.8538\n",
      "Epoch 52/100\n",
      "536/536 [==============================] - 3s 5ms/step - loss: 0.3360 - accuracy: 0.8636 - val_loss: 0.3586 - val_accuracy: 0.8519\n",
      "Epoch 53/100\n",
      "536/536 [==============================] - 3s 5ms/step - loss: 0.3356 - accuracy: 0.8647 - val_loss: 0.3586 - val_accuracy: 0.8527\n",
      "Epoch 54/100\n",
      "536/536 [==============================] - 3s 5ms/step - loss: 0.3355 - accuracy: 0.8649 - val_loss: 0.3588 - val_accuracy: 0.8535\n",
      "Epoch 55/100\n",
      "536/536 [==============================] - 2s 5ms/step - loss: 0.3351 - accuracy: 0.8636 - val_loss: 0.3586 - val_accuracy: 0.8531\n",
      "Epoch 56/100\n",
      "536/536 [==============================] - 2s 5ms/step - loss: 0.3352 - accuracy: 0.8655 - val_loss: 0.3584 - val_accuracy: 0.8535\n",
      "Epoch 57/100\n",
      "536/536 [==============================] - 2s 5ms/step - loss: 0.3350 - accuracy: 0.8653 - val_loss: 0.3583 - val_accuracy: 0.8538\n",
      "Epoch 58/100\n",
      "536/536 [==============================] - 2s 4ms/step - loss: 0.3347 - accuracy: 0.8638 - val_loss: 0.3582 - val_accuracy: 0.8531\n",
      "Epoch 59/100\n",
      "536/536 [==============================] - 2s 4ms/step - loss: 0.3349 - accuracy: 0.8649 - val_loss: 0.3579 - val_accuracy: 0.8538\n",
      "Epoch 60/100\n",
      "536/536 [==============================] - 2s 4ms/step - loss: 0.3346 - accuracy: 0.8649 - val_loss: 0.3576 - val_accuracy: 0.8538\n",
      "Epoch 61/100\n",
      "536/536 [==============================] - 2s 4ms/step - loss: 0.3344 - accuracy: 0.8653 - val_loss: 0.3577 - val_accuracy: 0.8550\n",
      "Epoch 62/100\n",
      "536/536 [==============================] - 2s 4ms/step - loss: 0.3344 - accuracy: 0.8645 - val_loss: 0.3577 - val_accuracy: 0.8535\n",
      "Epoch 63/100\n",
      "536/536 [==============================] - 2s 4ms/step - loss: 0.3342 - accuracy: 0.8656 - val_loss: 0.3575 - val_accuracy: 0.8542\n",
      "Epoch 64/100\n",
      "536/536 [==============================] - 2s 4ms/step - loss: 0.3340 - accuracy: 0.8647 - val_loss: 0.3577 - val_accuracy: 0.8550\n",
      "Epoch 65/100\n",
      "536/536 [==============================] - 3s 5ms/step - loss: 0.3340 - accuracy: 0.8647 - val_loss: 0.3576 - val_accuracy: 0.8550\n",
      "Epoch 66/100\n",
      "536/536 [==============================] - 3s 6ms/step - loss: 0.3338 - accuracy: 0.8649 - val_loss: 0.3575 - val_accuracy: 0.8542\n",
      "Epoch 67/100\n",
      "536/536 [==============================] - 2s 5ms/step - loss: 0.3338 - accuracy: 0.8658 - val_loss: 0.3579 - val_accuracy: 0.8538\n",
      "Epoch 68/100\n",
      "536/536 [==============================] - 2s 4ms/step - loss: 0.3336 - accuracy: 0.8647 - val_loss: 0.3580 - val_accuracy: 0.8538\n",
      "Epoch 69/100\n",
      "536/536 [==============================] - 2s 5ms/step - loss: 0.3335 - accuracy: 0.8653 - val_loss: 0.3577 - val_accuracy: 0.8535\n",
      "Epoch 70/100\n",
      "536/536 [==============================] - 2s 5ms/step - loss: 0.3334 - accuracy: 0.8640 - val_loss: 0.3573 - val_accuracy: 0.8546\n",
      "Epoch 71/100\n",
      "536/536 [==============================] - 2s 5ms/step - loss: 0.3332 - accuracy: 0.8640 - val_loss: 0.3575 - val_accuracy: 0.8535\n",
      "Epoch 72/100\n",
      "536/536 [==============================] - 3s 5ms/step - loss: 0.3329 - accuracy: 0.8651 - val_loss: 0.3575 - val_accuracy: 0.8554\n",
      "Epoch 73/100\n",
      "536/536 [==============================] - 2s 5ms/step - loss: 0.3332 - accuracy: 0.8643 - val_loss: 0.3570 - val_accuracy: 0.8538\n",
      "Epoch 74/100\n",
      "536/536 [==============================] - 2s 4ms/step - loss: 0.3329 - accuracy: 0.8640 - val_loss: 0.3573 - val_accuracy: 0.8542\n",
      "Epoch 75/100\n",
      "536/536 [==============================] - 2s 4ms/step - loss: 0.3329 - accuracy: 0.8668 - val_loss: 0.3572 - val_accuracy: 0.8531\n",
      "Epoch 76/100\n",
      "536/536 [==============================] - 3s 5ms/step - loss: 0.3328 - accuracy: 0.8645 - val_loss: 0.3572 - val_accuracy: 0.8531\n",
      "Epoch 77/100\n",
      "536/536 [==============================] - 3s 5ms/step - loss: 0.3329 - accuracy: 0.8642 - val_loss: 0.3571 - val_accuracy: 0.8527\n",
      "Epoch 78/100\n",
      "536/536 [==============================] - 2s 4ms/step - loss: 0.3326 - accuracy: 0.8649 - val_loss: 0.3571 - val_accuracy: 0.8535\n",
      "Epoch 79/100\n",
      "536/536 [==============================] - 2s 5ms/step - loss: 0.3326 - accuracy: 0.8651 - val_loss: 0.3571 - val_accuracy: 0.8535\n",
      "Epoch 80/100\n",
      "536/536 [==============================] - 2s 4ms/step - loss: 0.3327 - accuracy: 0.8653 - val_loss: 0.3574 - val_accuracy: 0.8538\n",
      "Epoch 81/100\n",
      "536/536 [==============================] - 2s 4ms/step - loss: 0.3325 - accuracy: 0.8643 - val_loss: 0.3575 - val_accuracy: 0.8546\n",
      "Epoch 82/100\n",
      "536/536 [==============================] - 3s 5ms/step - loss: 0.3324 - accuracy: 0.8656 - val_loss: 0.3579 - val_accuracy: 0.8546\n",
      "Epoch 83/100\n",
      "536/536 [==============================] - 2s 5ms/step - loss: 0.3322 - accuracy: 0.8640 - val_loss: 0.3574 - val_accuracy: 0.8550\n",
      "Epoch 84/100\n",
      "536/536 [==============================] - 3s 5ms/step - loss: 0.3321 - accuracy: 0.8643 - val_loss: 0.3572 - val_accuracy: 0.8550\n",
      "Epoch 85/100\n",
      "536/536 [==============================] - 2s 4ms/step - loss: 0.3322 - accuracy: 0.8660 - val_loss: 0.3572 - val_accuracy: 0.8542\n",
      "Epoch 86/100\n",
      "536/536 [==============================] - 2s 4ms/step - loss: 0.3321 - accuracy: 0.8653 - val_loss: 0.3573 - val_accuracy: 0.8550\n",
      "Epoch 87/100\n",
      "536/536 [==============================] - 2s 5ms/step - loss: 0.3321 - accuracy: 0.8642 - val_loss: 0.3573 - val_accuracy: 0.8535\n",
      "Epoch 88/100\n",
      "536/536 [==============================] - 2s 4ms/step - loss: 0.3318 - accuracy: 0.8640 - val_loss: 0.3574 - val_accuracy: 0.8542\n",
      "Epoch 89/100\n",
      "536/536 [==============================] - 2s 5ms/step - loss: 0.3320 - accuracy: 0.8656 - val_loss: 0.3571 - val_accuracy: 0.8550\n",
      "Epoch 90/100\n",
      "536/536 [==============================] - 2s 5ms/step - loss: 0.3318 - accuracy: 0.8643 - val_loss: 0.3574 - val_accuracy: 0.8554\n",
      "Epoch 91/100\n",
      "536/536 [==============================] - 2s 4ms/step - loss: 0.3317 - accuracy: 0.8645 - val_loss: 0.3575 - val_accuracy: 0.8546\n",
      "Epoch 92/100\n",
      "536/536 [==============================] - 2s 5ms/step - loss: 0.3317 - accuracy: 0.8653 - val_loss: 0.3575 - val_accuracy: 0.8542\n",
      "Epoch 93/100\n",
      "536/536 [==============================] - 2s 5ms/step - loss: 0.3315 - accuracy: 0.8636 - val_loss: 0.3575 - val_accuracy: 0.8550\n",
      "Epoch 94/100\n",
      "536/536 [==============================] - 2s 5ms/step - loss: 0.3316 - accuracy: 0.8632 - val_loss: 0.3570 - val_accuracy: 0.8546\n",
      "Epoch 95/100\n",
      "536/536 [==============================] - 2s 4ms/step - loss: 0.3314 - accuracy: 0.8655 - val_loss: 0.3571 - val_accuracy: 0.8557\n",
      "Epoch 96/100\n",
      "536/536 [==============================] - 2s 5ms/step - loss: 0.3314 - accuracy: 0.8651 - val_loss: 0.3573 - val_accuracy: 0.8554\n",
      "Epoch 97/100\n",
      "536/536 [==============================] - 2s 5ms/step - loss: 0.3312 - accuracy: 0.8645 - val_loss: 0.3571 - val_accuracy: 0.8538\n",
      "Epoch 98/100\n",
      "536/536 [==============================] - 2s 5ms/step - loss: 0.3312 - accuracy: 0.8645 - val_loss: 0.3573 - val_accuracy: 0.8542\n",
      "Epoch 99/100\n",
      "536/536 [==============================] - 2s 4ms/step - loss: 0.3311 - accuracy: 0.8651 - val_loss: 0.3572 - val_accuracy: 0.8538\n",
      "Epoch 100/100\n",
      "536/536 [==============================] - 2s 5ms/step - loss: 0.3310 - accuracy: 0.8653 - val_loss: 0.3571 - val_accuracy: 0.8554\n"
     ]
    }
   ],
   "source": [
    "# Fitting the ANN to the Training set\n",
    "model_history=classifier.fit(X_train, y_train,validation_split=0.33, batch_size = 10, epochs = 100)\n"
   ]
  },
  {
   "cell_type": "code",
   "execution_count": 21,
   "metadata": {},
   "outputs": [
    {
     "name": "stdout",
     "output_type": "stream",
     "text": [
      "dict_keys(['loss', 'accuracy', 'val_loss', 'val_accuracy'])\n"
     ]
    },
    {
     "data": {
      "image/png": "[encoded data removed]",
      "text/plain": [
       "<Figure size 432x288 with 1 Axes>"
      ]
     },
     "metadata": {
      "needs_background": "light"
     },
     "output_type": "display_data"
    }
   ],
   "source": [
    "# list all data in history\n",
    "\n",
    "print(model_history.history.keys())\n",
    "# summarize history for accuracy\n",
    "plt.plot(model_history.history['accuracy'])\n",
    "plt.plot(model_history.history['val_accuracy'])\n",
    "plt.title('model accuracy')\n",
    "plt.ylabel('Accuracy')\n",
    "plt.xlabel('epoch')\n",
    "plt.legend(['train', 'test'], loc='upper left')\n",
    "plt.show()"
   ]
  },
  {
   "cell_type": "code",
   "execution_count": 22,
   "metadata": {},
   "outputs": [
    {
     "data": {
      "image/png": "[encoded data removed]",
      "text/plain": [
       "<Figure size 432x288 with 1 Axes>"
      ]
     },
     "metadata": {
      "needs_background": "light"
     },
     "output_type": "display_data"
    }
   ],
   "source": [
    "# summarize history for loss\n",
    "plt.plot(model_history.history['loss'])\n",
    "plt.plot(model_history.history['val_loss'])\n",
    "plt.title('model loss')\n",
    "plt.ylabel('loss')\n",
    "plt.xlabel('epoch')\n",
    "plt.legend(['train', 'test'], loc='upper left')\n",
    "plt.show()"
   ]
  },
  {
   "cell_type": "code",
   "execution_count": null,
   "metadata": {},
   "outputs": [],
   "source": [
    "# Part 3 - Making the predictions and evaluating the model"
   ]
  },
  {
   "cell_type": "code",
   "execution_count": 23,
   "metadata": {},
   "outputs": [],
   "source": [
    "# Predicting the Test set results\n",
    "y_pred = classifier.predict(X_test)\n",
    "y_pred = (y_pred > 0.5)\n"
   ]
  },
  {
   "cell_type": "code",
   "execution_count": 24,
   "metadata": {},
   "outputs": [],
   "source": [
    "# Making the Confusion Matrix\n",
    "from sklearn.metrics import confusion_matrix\n",
    "cm = confusion_matrix(y_test, y_pred)"
   ]
  },
  {
   "cell_type": "code",
   "execution_count": 29,
   "metadata": {},
   "outputs": [
    {
     "name": "stdout",
     "output_type": "stream",
     "text": [
      "Accuracy score of the model is :  0.8615\n"
     ]
    }
   ],
   "source": [
    "# Calculate the Accuracy\n",
    "from sklearn.metrics import accuracy_score\n",
    "score=accuracy_score(y_pred,y_test)\n",
    "print(\"Accuracy score of the model is : \",score)"
   ]
  },
  {
   "cell_type": "code",
   "execution_count": null,
   "metadata": {},
   "outputs": [],
   "source": []
  }
 ],
 "metadata": {
  "kernelspec": {
   "display_name": "Python 3",
   "language": "python",
   "name": "python3"
  },
  "language_info": {
   "codemirror_mode": {
    "name": "ipython",
    "version": 3
   },
   "file_extension": ".py",
   "mimetype": "text/x-python",
   "name": "python",
   "nbconvert_exporter": "python",
   "pygments_lexer": "ipython3",
   "version": "3.8.5"
  }
 },
 "nbformat": 4,
 "nbformat_minor": 4
}
